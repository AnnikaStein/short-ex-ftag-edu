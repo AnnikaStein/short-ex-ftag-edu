{
 "cells": [
  {
   "cell_type": "markdown",
   "metadata": {},
   "source": [
    "# 3. Bonus"
   ]
  },
  {
   "cell_type": "markdown",
   "metadata": {},
   "source": [
    "Study how performance changes as a function of certain inputs. You can do the following:\n",
    "- Bin the jet sample with kinematic quantities Jet $\\eta$ and Jet $p_T$ and calculate AUC as a function of these variables for a tagger and discriminator of your choice. 1D histograms will already tell an interesting story.\n",
    "- A closer view: use a 2D plot instead (2D histogram). For this, it can be useful to concatenate the 5 files of each kind of sample available in the CMSDAS directory to get more statistics."
   ]
  },
  {
   "cell_type": "code",
   "execution_count": null,
   "metadata": {},
   "outputs": [],
   "source": []
  }
 ],
 "metadata": {
  "kernelspec": {
   "display_name": "Python 3 (ipykernel)",
   "language": "python",
   "name": "python3"
  },
  "language_info": {
   "codemirror_mode": {
    "name": "ipython",
    "version": 3
   },
   "file_extension": ".py",
   "mimetype": "text/x-python",
   "name": "python",
   "nbconvert_exporter": "python",
   "pygments_lexer": "ipython3",
   "version": "3.10.8"
  }
 },
 "nbformat": 4,
 "nbformat_minor": 4
}
